import threading
import requests
from bs4 import BeautifulSoup

urls=[
    'https://pypi.org/project/beautifulsoup4/',
    'https://beautiful-soup-4.readthedocs.io/en/latest/#kinds-of-objects'
]
def fetch_content(url):
    response=requests.get(url)
    soup=BeautifulSoup(response.content, 'html.parser')
    print(f'Fetched {len(soup.text)} charcters from {url}')
threads=[]
for url in urls:
    thread=threading.Thread(target=fetch_content,args=(url,))
    threads.append(thread)
    thread.start()
for thread in threads:
    thread.join()
print ("All web pages are fetched")
